{
 "cells": [
  {
   "cell_type": "code",
   "execution_count": 1,
   "id": "sharp-smile",
   "metadata": {},
   "outputs": [],
   "source": [
    "import torch\n",
    "device = torch.device('cuda')"
   ]
  },
  {
   "cell_type": "code",
   "execution_count": 2,
   "id": "wanted-carroll",
   "metadata": {},
   "outputs": [
    {
     "data": {
      "text/plain": [
       "<All keys matched successfully>"
      ]
     },
     "execution_count": 2,
     "metadata": {},
     "output_type": "execute_result"
    }
   ],
   "source": [
    "import torch\n",
    "from torch2trt import TRTModule\n",
    "\n",
    "model_trt_collision = TRTModule()\n",
    "model_trt_collision.load_state_dict(torch.load('best_model_trt.pth')) "
   ]
  },
  {
   "cell_type": "code",
   "execution_count": 3,
   "id": "primary-patent",
   "metadata": {},
   "outputs": [],
   "source": [
    "import torchvision\n",
    "import torchvision.transforms as transforms\n",
    "import torch.nn.functional as F\n",
    "import cv2\n",
    "import PIL.Image\n",
    "import numpy as np\n",
    "\n",
    "mean = torch.Tensor([0.485, 0.456, 0.406]).cuda().half()\n",
    "std = torch.Tensor([0.229, 0.224, 0.225]).cuda().half()\n",
    "\n",
    "normalize = torchvision.transforms.Normalize(mean, std)\n",
    "\n",
    "def preprocess(image):\n",
    "    image = PIL.Image.fromarray(image)\n",
    "    image = transforms.functional.to_tensor(image).to(device).half()\n",
    "    image.sub_(mean[:, None, None]).div_(std[:, None, None])\n",
    "    return image[None, ...]"
   ]
  },
  {
   "cell_type": "code",
   "execution_count": null,
   "id": "considerable-paste",
   "metadata": {},
   "outputs": [],
   "source": [
    "import traitlets\n",
    "from IPython.display import display\n",
    "import ipywidgets.widgets as widgets\n",
    "from jetbot import Camera, bgr8_to_jpeg\n",
    "\n",
    "camera = Camera.instance(width=224, height=224)\n",
    "image = widgets.Image(format='jpeg', width=224, height=224)\n",
    "speed_slider = widgets.FloatSlider(description='speed', min=0.0, max=0.5, value=0.0, step=0.01, orientation='horizontal')\n",
    "\n",
    "camera_link = traitlets.dlink((camera, 'value'), (image, 'value'), transform=bgr8_to_jpeg)\n",
    "\n",
    "display(widgets.VBox([widgets.HBox([image]), speed_slider]))"
   ]
  },
  {
   "cell_type": "code",
   "execution_count": null,
   "id": "pointed-lover",
   "metadata": {},
   "outputs": [],
   "source": [
    "from jetbot import Robot\n",
    "\n",
    "robot = Robot()"
   ]
  },
  {
   "cell_type": "code",
   "execution_count": null,
   "id": "imported-production",
   "metadata": {},
   "outputs": [],
   "source": [
    "categories = ['forward', 'left', 'right', 'stop']\n",
    "class SimpleDataset:\n",
    "    def __init__(self, categories):\n",
    "        self.categories = categories\n",
    "\n",
    "dataset = SimpleDataset(categories)\n"
   ]
  },
  {
   "cell_type": "code",
   "execution_count": null,
   "id": "conservative-bishop",
   "metadata": {},
   "outputs": [],
   "source": [
    "import torch.nn.functional as F\n",
    "import time\n",
    "\n",
    "car_command_status = 0\n",
    "car_command = ''\n",
    "car_last_command = ''\n",
    "prediction_position_widget = widgets.Text(description='Prediction')\n",
    "speed_slider.value = 0.20\n",
    "score_widgets = []\n",
    "\n",
    "for category in dataset.categories:\n",
    "    score_widget = widgets.FloatSlider(min=0.0, max=1.0, description=category, orientation='vertical')\n",
    "    score_widgets.append(score_widget)\n",
    "    \n",
    "def update(change):\n",
    "    global blocked_slider, robot,car_command_status, car_command, car_last_command\n",
    "    x = change['new'] \n",
    "    x = preprocess(x)\n",
    "    y = model_trt_collision(x)\n",
    "    y = F.softmax(y, dim=1).detach().cpu().numpy().flatten()\n",
    "\n",
    "    category_index = y.argmax()\n",
    "    prediction_position_widget.value = dataset.categories[category_index]\n",
    "   \n",
    "\n",
    "    for i, score in enumerate(list(y)):\n",
    "        score_widgets[i].value = score\n",
    "    if car_command_status == 0:\n",
    "        car_command = dataset.categories[category_index]\n",
    "        car_command_status = 1\n",
    "\n",
    "        if car_command_status == 1:\n",
    "            if car_command == 'forward':\n",
    "                robot.forward(speed_slider.value)\n",
    "            elif car_command == 'left':\n",
    "                robot.left(speed_slider.value)\n",
    "            elif car_command == 'right':\n",
    "                robot.right(speed_slider.value)\n",
    "            else:\n",
    "                robot.stop()\n",
    "        car_command_status = 0\n",
    "        car_command = ''\n",
    "        \n",
    "update({'new': camera.value})  # we call the function once to initialize"
   ]
  },
  {
   "cell_type": "code",
   "execution_count": null,
   "id": "particular-politics",
   "metadata": {},
   "outputs": [],
   "source": [
    "display(\n",
    "    widgets.VBox(\n",
    "        [\n",
    "            widgets.HBox(score_widgets),\n",
    "            image, \n",
    "            speed_slider\n",
    "        ]\n",
    "    )\n",
    ")\n"
   ]
  },
  {
   "cell_type": "code",
   "execution_count": null,
   "id": "lasting-vacuum",
   "metadata": {},
   "outputs": [],
   "source": [
    "camera.observe(update, names='value') "
   ]
  },
  {
   "cell_type": "code",
   "execution_count": 11,
   "id": "peripheral-fabric",
   "metadata": {},
   "outputs": [],
   "source": [
    "import time\n",
    "\n",
    "# camera.unobserve(execute, names='value')\n",
    "\n",
    "time.sleep(0.1)  \n",
    "\n",
    "robot.stop()"
   ]
  },
  {
   "cell_type": "code",
   "execution_count": null,
   "id": "excessive-agenda",
   "metadata": {},
   "outputs": [],
   "source": [
    "camera.stop()"
   ]
  },
  {
   "cell_type": "code",
   "execution_count": null,
   "id": "intimate-windows",
   "metadata": {},
   "outputs": [],
   "source": []
  },
  {
   "cell_type": "code",
   "execution_count": null,
   "id": "junior-carpet",
   "metadata": {},
   "outputs": [],
   "source": []
  }
 ],
 "metadata": {
  "kernelspec": {
   "display_name": "Python 3",
   "language": "python",
   "name": "python3"
  },
  "language_info": {
   "codemirror_mode": {
    "name": "ipython",
    "version": 3
   },
   "file_extension": ".py",
   "mimetype": "text/x-python",
   "name": "python",
   "nbconvert_exporter": "python",
   "pygments_lexer": "ipython3",
   "version": "3.6.9"
  }
 },
 "nbformat": 4,
 "nbformat_minor": 5
}
